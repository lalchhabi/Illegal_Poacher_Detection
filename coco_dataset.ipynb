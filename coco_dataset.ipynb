{
 "cells": [
  {
   "cell_type": "code",
   "execution_count": 2,
   "metadata": {},
   "outputs": [
    {
     "name": "stdout",
     "output_type": "stream",
     "text": [
      "Note: you may need to restart the kernel to use updated packages.Requirement already satisfied: pycocotools-windows in c:\\users\\lant\\appdata\\local\\programs\\python\\python37\\lib\\site-packages (2.0.0.2)\n"
     ]
    },
    {
     "name": "stderr",
     "output_type": "stream",
     "text": [
      "WARNING: Ignoring invalid distribution -pencv-python (c:\\users\\lant\\appdata\\local\\programs\\python\\python37\\lib\\site-packages)\n",
      "WARNING: Ignoring invalid distribution -pencv-python (c:\\users\\lant\\appdata\\local\\programs\\python\\python37\\lib\\site-packages)\n",
      "WARNING: Ignoring invalid distribution -pencv-python (c:\\users\\lant\\appdata\\local\\programs\\python\\python37\\lib\\site-packages)\n",
      "WARNING: Ignoring invalid distribution -pencv-python (c:\\users\\lant\\appdata\\local\\programs\\python\\python37\\lib\\site-packages)\n",
      "WARNING: Ignoring invalid distribution -pencv-python (c:\\users\\lant\\appdata\\local\\programs\\python\\python37\\lib\\site-packages)\n",
      "WARNING: Ignoring invalid distribution -pencv-python (c:\\users\\lant\\appdata\\local\\programs\\python\\python37\\lib\\site-packages)\n",
      "WARNING: You are using pip version 21.2.3; however, version 22.0.3 is available.\n",
      "You should consider upgrading via the 'c:\\users\\lant\\appdata\\local\\programs\\python\\python37\\python.exe -m pip install --upgrade pip' command.\n"
     ]
    },
    {
     "name": "stdout",
     "output_type": "stream",
     "text": [
      "\n",
      "Requirement already satisfied: matplotlib>=2.1.0 in c:\\users\\lant\\appdata\\local\\programs\\python\\python37\\lib\\site-packages (from pycocotools-windows) (3.2.1)\n",
      "Requirement already satisfied: setuptools>=18.0 in c:\\users\\lant\\appdata\\local\\programs\\python\\python37\\lib\\site-packages (from pycocotools-windows) (47.1.0)\n",
      "Requirement already satisfied: cython>=0.27.3 in c:\\users\\lant\\appdata\\local\\programs\\python\\python37\\lib\\site-packages (from pycocotools-windows) (0.29.21)\n",
      "Requirement already satisfied: pyparsing!=2.0.4,!=2.1.2,!=2.1.6,>=2.0.1 in c:\\users\\lant\\appdata\\local\\programs\\python\\python37\\lib\\site-packages (from matplotlib>=2.1.0->pycocotools-windows) (2.4.7)\n",
      "Requirement already satisfied: python-dateutil>=2.1 in c:\\users\\lant\\appdata\\local\\programs\\python\\python37\\lib\\site-packages (from matplotlib>=2.1.0->pycocotools-windows) (2.8.1)\n",
      "Requirement already satisfied: kiwisolver>=1.0.1 in c:\\users\\lant\\appdata\\local\\programs\\python\\python37\\lib\\site-packages (from matplotlib>=2.1.0->pycocotools-windows) (1.2.0)\n",
      "Requirement already satisfied: numpy>=1.11 in c:\\users\\lant\\appdata\\local\\programs\\python\\python37\\lib\\site-packages (from matplotlib>=2.1.0->pycocotools-windows) (1.19.5)\n",
      "Requirement already satisfied: cycler>=0.10 in c:\\users\\lant\\appdata\\local\\programs\\python\\python37\\lib\\site-packages (from matplotlib>=2.1.0->pycocotools-windows) (0.10.0)\n",
      "Requirement already satisfied: six in c:\\users\\lant\\appdata\\local\\programs\\python\\python37\\lib\\site-packages (from cycler>=0.10->matplotlib>=2.1.0->pycocotools-windows) (1.15.0)\n"
     ]
    }
   ],
   "source": [
    "pip install pycocotools-windows"
   ]
  },
  {
   "cell_type": "code",
   "execution_count": 3,
   "metadata": {},
   "outputs": [
    {
     "name": "stdout",
     "output_type": "stream",
     "text": [
      "loading annotations into memory...\n",
      "Done (t=1676.71s)\n",
      "creating index...\n",
      "index created!\n",
      "Number of Images Containing dog: 4385\n",
      "Number of Images Containing elephant: 2143\n",
      "Number of Images Containing bear: 960\n",
      "Number of Images Containing backpack: 5528\n",
      "Number of Images Containing umbrella: 3968\n"
     ]
    }
   ],
   "source": [
    "from __future__ import annotations\n",
    "import numpy as np\n",
    "from PIL import Image\n",
    "import requests\n",
    "from pycocotools.coco import COCO\n",
    "import json\n",
    "import  os\n",
    "import pandas as pd\n",
    "\n",
    "annotation_dir = \"C:/Users/lant/Desktop/illegal_poacher_detection/annotations\"\n",
    "images_dir = \"C:/Users/lant/Desktop/illegal_poacher_detection/images\"\n",
    "file_annotation = \"instances_train2017.json\"\n",
    "NS =200 # download 200 atmost samples from coco dataset\n",
    "def main():\n",
    "    coco_annotation_file_path = os.path.join(annotation_dir, file_annotation)\n",
    "    coco_annotation = COCO(annotation_file=coco_annotation_file_path)\n",
    "\n",
    "    out_file = os.path.join(annotation_dir,file_annotation[:-5] + '_train.csv')\n",
    "    out = open(out_file, 'w')\n",
    "    out.write('file_name, width, height,id,xmin,ymin,xmax,ymax,class,text_label\\n')\n",
    "\n",
    "    cat_names =['dog','elephant','bear','backpack','umbrella','tiger','rhino','ranger','poacher']\n",
    "\n",
    "    # Category Name -> Category ID.\n",
    "\n",
    "    query_ids = coco_annotation.getCatIds(catNms=cat_names)\n",
    "    cat_name_ids = dict([(k, v) for k, v in zip(query_ids, cat_names) ])\n",
    "    image_ids = []\n",
    "    for j, q_ids in enumerate (query_ids):\n",
    "        # Get the ID of all the images containing the object of the category.\n",
    "        img_ids = coco_annotation.getImgIds(catIds=[q_ids])\n",
    "        print(f\"Number of Images Containing {cat_names[j]}: {len(img_ids)}\")\n",
    "        N =0\n",
    "        for img_id in img_ids:\n",
    "            img_info = coco_annotation.loadImgs([img_id])[0]\n",
    "            img_url = img_info[\"coco_url\"]\n",
    "            # Get all the annotations for the specified image.\n",
    "            ann_ids = coco_annotation.getAnnIds(imgIds=[img_id], iscrowd=None)\n",
    "            anns = coco_annotation.loadAnns(ann_ids)\n",
    "            if len(anns)>0:\n",
    "                for i in range(len(anns)):\n",
    "                    ann = anns[i]\n",
    "                    hi = img_info[\"height\"]\n",
    "                    wi = img_info[\"width\"]\n",
    "                    f_name =img_info[\"file_name\"]\n",
    "                    x1 = ann['bbox'][0]\n",
    "                    x2 = ann['bbox'][0] + ann['bbox'][2]\n",
    "                    y1 = ann['bbox'][1]\n",
    "                    y2 = ann['bbox'][1] + ann['bbox'][3]\n",
    "                    label = j+1 #ann['category_id']\n",
    "                    text_label =cat_names[j] \n",
    "                    out.write('{},{},{},{},{},{},{},{},{},{}\\n'.format(f_name, hi, wi, img_id, x1, y1, x2, y2, label, text_label))\n",
    "\n",
    "            else:\n",
    "                hi = img_info[\"height\"]\n",
    "                wi = img_info[\"width\"]\n",
    "                f_name =img_info[\"file_name\"]\n",
    "                out.write('{},{},{},{},{},{},{},{},{},{}\\n'.format(f_name, hi, wi, img_id, -1, -1, -1, -1, -1, -1))\n",
    "\n",
    "            # Use URL to load image.\n",
    "            im = requests.get(img_url, stream=True)\n",
    "            im = requests.get(img_url, stream=True).content\n",
    "            with open(images_dir +\"/\"+ img_info['file_name'], 'wb') as handler:\n",
    "                handler.write(im)\n",
    "            N +=1\n",
    "            image_ids.append(img_id)\n",
    "            if N ==NS:\n",
    "                break\n",
    "    out.close()\n",
    "     # Sort file by image id\n",
    "    df = pd.read_csv(out_file)\n",
    "    df.sort_values('id', inplace=True)\n",
    "    df.to_csv(out_file, index=False)\n",
    "\n",
    "\n",
    "    \n",
    "main()\n",
    "# if __name__ == \"__main__\":\n",
    "    \n",
    "   \n",
    "\n",
    "   \n",
    "    "
   ]
  },
  {
   "cell_type": "code",
   "execution_count": null,
   "metadata": {},
   "outputs": [],
   "source": []
  }
 ],
 "metadata": {
  "kernelspec": {
   "display_name": "Python 3",
   "language": "python",
   "name": "python3"
  },
  "language_info": {
   "codemirror_mode": {
    "name": "ipython",
    "version": 3
   },
   "file_extension": ".py",
   "mimetype": "text/x-python",
   "name": "python",
   "nbconvert_exporter": "python",
   "pygments_lexer": "ipython3",
   "version": "3.7.4"
  }
 },
 "nbformat": 4,
 "nbformat_minor": 4
}
